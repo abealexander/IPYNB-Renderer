{
 "cells": [
  {
   "cell_type": "code",
   "execution_count": 17,
   "metadata": {},
   "outputs": [
    {
     "data": {
      "text/plain": [
       "('YbFicefb3x8', 0)"
      ]
     },
     "execution_count": 17,
     "metadata": {},
     "output_type": "execute_result"
    }
   ],
   "source": [
    "URL1 = \"https://www.youtube.com/watch?v=YbFicefb3x8\"\n",
    "URL1.split(\"=\")[-1], 0"
   ]
  },
  {
   "cell_type": "code",
   "execution_count": 18,
   "metadata": {},
   "outputs": [
    {
     "data": {
      "text/plain": [
       "'YbFicefb3x8'"
      ]
     },
     "execution_count": 18,
     "metadata": {},
     "output_type": "execute_result"
    }
   ],
   "source": [
    "URL2 = \"https://youtu.be/YbFicefb3x8\"\n",
    "URL2.split(\"/\")[-1]"
   ]
  },
  {
   "cell_type": "code",
   "execution_count": 19,
   "metadata": {},
   "outputs": [
    {
     "data": {
      "text/plain": [
       "['https://youtu.be/YbFicefb3x8?t', '121']"
      ]
     },
     "execution_count": 19,
     "metadata": {},
     "output_type": "execute_result"
    }
   ],
   "source": [
    "URL3 = \"https://youtu.be/YbFicefb3x8?t=121\"\n",
    "URL3.split(\"=\")"
   ]
  },
  {
   "cell_type": "code",
   "execution_count": 20,
   "metadata": {},
   "outputs": [
    {
     "data": {
      "text/plain": [
       "'YbFicefb3x8'"
      ]
     },
     "execution_count": 20,
     "metadata": {},
     "output_type": "execute_result"
    }
   ],
   "source": [
    "URL3.split(\"=\")[0].split(\"/\")[-1][:-2]"
   ]
  },
  {
   "cell_type": "code",
   "execution_count": 21,
   "metadata": {},
   "outputs": [
    {
     "data": {
      "text/plain": [
       "['https://www.youtube.com/watch?v', 'YbFicefb3x8&t', '121s']"
      ]
     },
     "execution_count": 21,
     "metadata": {},
     "output_type": "execute_result"
    }
   ],
   "source": [
    "URL4 = \"https://www.youtube.com/watch?v=YbFicefb3x8&t=121s\"\n",
    "URL4.split(\"=\")"
   ]
  },
  {
   "cell_type": "code",
   "execution_count": 22,
   "metadata": {},
   "outputs": [
    {
     "data": {
      "text/plain": [
       "'YbFicefb3x8'"
      ]
     },
     "execution_count": 22,
     "metadata": {},
     "output_type": "execute_result"
    }
   ],
   "source": [
    "URL4.split(\"=\")[-2][:-2]"
   ]
  },
  {
   "cell_type": "code",
   "execution_count": 23,
   "metadata": {},
   "outputs": [],
   "source": [
    "from IPYNBrenderer import render_Youtube_video"
   ]
  },
  {
   "cell_type": "code",
   "execution_count": 24,
   "metadata": {},
   "outputs": [
    {
     "name": "stdout",
     "output_type": "stream",
     "text": [
      "[2022-10-03 01:24:34,261: INFO: youtube]: video starts at: 0\n",
      "[2022-10-03 01:24:34,262: INFO: youtube]: embed URL: https://www.youtube.com/embed/YbFicefb3x8?start=0\n"
     ]
    },
    {
     "data": {
      "text/html": [
       "<iframe\n",
       "            width=\"780\" height=\"600\"\n",
       "            src=\"https://www.youtube.com/embed/YbFicefb3x8?start=0\"\n",
       "            title=\"YouTube video player\"\n",
       "            frameborder=\"0\"\n",
       "            allow=\"accelerometer;\n",
       "            autoplay; clipboard-write;\n",
       "            encrypted-media; gyroscope;\n",
       "            picture-in-picture\" allowfullscreen>\n",
       "            </iframe>\n",
       "            "
      ],
      "text/plain": [
       "<IPython.core.display.HTML object>"
      ]
     },
     "metadata": {},
     "output_type": "display_data"
    },
    {
     "data": {
      "text/plain": [
       "'success'"
      ]
     },
     "execution_count": 24,
     "metadata": {},
     "output_type": "execute_result"
    }
   ],
   "source": [
    "render_Youtube_video(URL1)"
   ]
  },
  {
   "cell_type": "code",
   "execution_count": 25,
   "metadata": {},
   "outputs": [
    {
     "name": "stdout",
     "output_type": "stream",
     "text": [
      "[2022-10-03 01:24:35,062: INFO: youtube]: video starts at: 0\n",
      "[2022-10-03 01:24:35,064: INFO: youtube]: embed URL: https://www.youtube.com/embed/YbFicefb3x8?start=0\n"
     ]
    },
    {
     "data": {
      "text/html": [
       "<iframe\n",
       "            width=\"780\" height=\"600\"\n",
       "            src=\"https://www.youtube.com/embed/YbFicefb3x8?start=0\"\n",
       "            title=\"YouTube video player\"\n",
       "            frameborder=\"0\"\n",
       "            allow=\"accelerometer;\n",
       "            autoplay; clipboard-write;\n",
       "            encrypted-media; gyroscope;\n",
       "            picture-in-picture\" allowfullscreen>\n",
       "            </iframe>\n",
       "            "
      ],
      "text/plain": [
       "<IPython.core.display.HTML object>"
      ]
     },
     "metadata": {},
     "output_type": "display_data"
    },
    {
     "data": {
      "text/plain": [
       "'success'"
      ]
     },
     "execution_count": 25,
     "metadata": {},
     "output_type": "execute_result"
    }
   ],
   "source": [
    "render_Youtube_video(URL2)"
   ]
  },
  {
   "cell_type": "code",
   "execution_count": 26,
   "metadata": {},
   "outputs": [
    {
     "name": "stdout",
     "output_type": "stream",
     "text": [
      "[2022-10-03 01:24:35,857: INFO: youtube]: video starts at: 121\n",
      "[2022-10-03 01:24:35,858: INFO: youtube]: embed URL: https://www.youtube.com/embed/YbFicefb3x8?start=121\n"
     ]
    },
    {
     "data": {
      "text/html": [
       "<iframe\n",
       "            width=\"780\" height=\"600\"\n",
       "            src=\"https://www.youtube.com/embed/YbFicefb3x8?start=121\"\n",
       "            title=\"YouTube video player\"\n",
       "            frameborder=\"0\"\n",
       "            allow=\"accelerometer;\n",
       "            autoplay; clipboard-write;\n",
       "            encrypted-media; gyroscope;\n",
       "            picture-in-picture\" allowfullscreen>\n",
       "            </iframe>\n",
       "            "
      ],
      "text/plain": [
       "<IPython.core.display.HTML object>"
      ]
     },
     "metadata": {},
     "output_type": "display_data"
    },
    {
     "data": {
      "text/plain": [
       "'success'"
      ]
     },
     "execution_count": 26,
     "metadata": {},
     "output_type": "execute_result"
    }
   ],
   "source": [
    "render_Youtube_video(URL3)"
   ]
  },
  {
   "cell_type": "code",
   "execution_count": 27,
   "metadata": {},
   "outputs": [
    {
     "name": "stdout",
     "output_type": "stream",
     "text": [
      "[2022-10-03 01:24:36,523: INFO: youtube]: video starts at: 121\n",
      "[2022-10-03 01:24:36,524: INFO: youtube]: embed URL: https://www.youtube.com/embed/YbFicefb3x8?start=121\n"
     ]
    },
    {
     "data": {
      "text/html": [
       "<iframe\n",
       "            width=\"780\" height=\"600\"\n",
       "            src=\"https://www.youtube.com/embed/YbFicefb3x8?start=121\"\n",
       "            title=\"YouTube video player\"\n",
       "            frameborder=\"0\"\n",
       "            allow=\"accelerometer;\n",
       "            autoplay; clipboard-write;\n",
       "            encrypted-media; gyroscope;\n",
       "            picture-in-picture\" allowfullscreen>\n",
       "            </iframe>\n",
       "            "
      ],
      "text/plain": [
       "<IPython.core.display.HTML object>"
      ]
     },
     "metadata": {},
     "output_type": "display_data"
    },
    {
     "data": {
      "text/plain": [
       "'success'"
      ]
     },
     "execution_count": 27,
     "metadata": {},
     "output_type": "execute_result"
    }
   ],
   "source": [
    "render_Youtube_video(URL4)"
   ]
  },
  {
   "cell_type": "code",
   "execution_count": null,
   "metadata": {},
   "outputs": [],
   "source": []
  }
 ],
 "metadata": {
  "kernelspec": {
   "display_name": "Python 3.8.13 (conda)",
   "language": "python",
   "name": "python3"
  },
  "language_info": {
   "codemirror_mode": {
    "name": "ipython",
    "version": 3
   },
   "file_extension": ".py",
   "mimetype": "text/x-python",
   "name": "python",
   "nbconvert_exporter": "python",
   "pygments_lexer": "ipython3",
   "version": "3.8.13"
  },
  "orig_nbformat": 4,
  "vscode": {
   "interpreter": {
    "hash": "4bd8f6a2e6c546c35a19ed9e9d5acb9b7bb0201137fb85e1ade308f43cdbfdea"
   }
  }
 },
 "nbformat": 4,
 "nbformat_minor": 2
}
